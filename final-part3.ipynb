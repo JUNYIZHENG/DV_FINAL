{
 "cells": [
  {
   "cell_type": "markdown",
   "metadata": {},
   "source": [
    "Title: Boston Crimes Data Analysis\n",
    "\n",
    "Author: Junyi Zheng\n",
    "\n",
    "The data is crime incident reports in Boston from August 2015 - present. It is published by Department of Innovation and Technology. It is provided by Boston Police Department (BPD) to document the initial details surrounding an incident to which BPD officers respond. This is a dataset containing records from the new crime incident report system, which includes a reduced set of fields focused on capturing the type of incident as well as when and where it occurred. The dataset has a bunch of fields, including offense category, offense districts, offense data and offense coordinates. \n",
    "\n",
    "With this dataset, one can analyze several factors that may relate to crimes. For instance, the relationship between the day of week that crimes happened and the category of crimes. Furthermore, the most safest places and most dangerous places can be marked on a map."
   ]
  },
  {
   "cell_type": "code",
   "execution_count": 30,
   "metadata": {},
   "outputs": [],
   "source": [
    "# usual things\n",
    "import pandas as pd\n",
    "import matplotlib.pyplot as plt\n",
    "import bqplot\n",
    "import numpy as np\n",
    "import ipywidgets\n",
    "import time as systime\n",
    "import datetime as dt\n",
    "import string\n",
    "import seaborn as sns\n",
    "import bqplot.pyplot as pt\n",
    "%matplotlib inline"
   ]
  },
  {
   "cell_type": "code",
   "execution_count": 31,
   "metadata": {},
   "outputs": [],
   "source": [
    "data = pd.read_csv('bostoncrime.csv')\n",
    "data = data.dropna()\n",
    "data[\"DISTRICT\"] = data[\"DISTRICT\"].astype('category')\n",
    "data[\"dis\"] = data[\"DISTRICT\"].cat.codes\n",
    "\n",
    "data['OCCURRED_ON_DATE'] = pd.to_datetime(data['OCCURRED_ON_DATE'])\n",
    "data['year'] = data.OCCURRED_ON_DATE.dt.year\n",
    "data['month'] = data.OCCURRED_ON_DATE.dt.month\n",
    "data['day'] = data.OCCURRED_ON_DATE.dt.day\n",
    "data['hour'] = data.OCCURRED_ON_DATE.dt.hour\n",
    "\n",
    "total_crm = data.groupby([data['day'],data['DISTRICT']])['INCIDENT_NUMBER'].count().reset_index()\n",
    "total_crm[\"DISTRICT\"] = total_crm[\"DISTRICT\"].astype('category')\n",
    "total_crm[\"dis\"] = total_crm[\"DISTRICT\"].cat.codes\n",
    "total_crm[\"inci\"] = total_crm[\"INCIDENT_NUMBER\"]"
   ]
  },
  {
   "cell_type": "code",
   "execution_count": 32,
   "metadata": {},
   "outputs": [],
   "source": [
    "a = data[(data.day==1)&(data.dis==2)].index.tolist()\n",
    "hist2d, ag_edges, dist_edges = np.histogram2d(total_crm['day'], \n",
    "                                              total_crm['dis'], \n",
    "                                              weights = total_crm['inci'], \n",
    "                                              bins=[31,9])\n",
    "\n",
    "ag_centers = (ag_edges[:-1] + ag_edges[1:])/2\n",
    "dist_centers = (dist_edges[:-1] + dist_edges[1:])/2\n",
    "hist2d = hist2d.T\n",
    "hist2d[hist2d<= 0] = np.nan\n",
    "\n",
    "hist2d = np.log10(hist2d)"
   ]
  },
  {
   "cell_type": "code",
   "execution_count": 47,
   "metadata": {},
   "outputs": [],
   "source": [
    "cn = data.groupby([data['day'],data['DISTRICT'],data['OFFENSE_CODE_GROUP']])['INCIDENT_NUMBER'].count().reset_index()\n",
    "cn[\"DISTRICT\"] = cn[\"DISTRICT\"].astype('category')\n",
    "cn[\"dis\"] = cn[\"DISTRICT\"].cat.codes\n",
    "cn[\"inci\"] = cn[\"INCIDENT_NUMBER\"]\n",
    "\n",
    "# CREATE LABEL - #1\n",
    "mySelectedLabel = ipywidgets.Label() # print out info about our selection"
   ]
  },
  {
   "cell_type": "code",
   "execution_count": 48,
   "metadata": {},
   "outputs": [],
   "source": [
    "# scales\n",
    "x_sc = bqplot.LinearScale()\n",
    "y_sc = bqplot.LinearScale() \n",
    "col_sc = bqplot.ColorScale(scheme='BuPu', min=np.nanmin(hist2d), max=np.nanmax(hist2d))\n",
    "\n",
    "# axis\n",
    "x_ax = bqplot.Axis(scale=x_sc, label='day')\n",
    "y_ax = bqplot.Axis(scale=y_sc, label='District', orientation='vertical')\n",
    "c_ax = bqplot.ColorAxis(scale=col_sc, orientation='vertical', side='right')\n",
    "\n",
    "# marks\n",
    "heat_map = bqplot.GridHeatMap(color=hist2d, \n",
    "                             row=dist_centers, \n",
    "                             column=ag_centers, \n",
    "                             scales={'color':col_sc, 'row':y_sc, 'column':x_sc},\n",
    "                             interactions={'click':'select'}, \n",
    "                             anchor_style={'fill':'blue'})"
   ]
  },
  {
   "cell_type": "code",
   "execution_count": 59,
   "metadata": {},
   "outputs": [],
   "source": [
    "x_ord = bqplot.OrdinalScale()\n",
    "y_sc = bqplot.LinearScale()\n",
    "\n",
    "ax_x = bqplot.Axis(label='Crime Category', scale=x_ord, orientation='vertical', fontsize=10)\n",
    "ax_y = bqplot.Axis(label='Crime Number',scale=y_sc, tick_format='0.2f')\n",
    "\n",
    "bar = bqplot.Bars(x=cn['OFFENSE_CODE_GROUP'], y=cn['inci'], scales={'x': x_ord, 'y': y_sc}, orientation='horizontal', color_mode='group')\n",
    "# bqplot.Figure(marks=[bar], axes=[ax_x, ax_y])"
   ]
  },
  {
   "cell_type": "code",
   "execution_count": 60,
   "metadata": {},
   "outputs": [],
   "source": [
    "# LINKING BAR PLOT WITH HEATMAP\n",
    "def get_data_value(change):\n",
    "    # to make sure we only support single selections\n",
    "    if len(change['owner'].selected) == 1: # *only* 1 selection\n",
    "        i,j = change['owner'].selected[0]\n",
    "        v = hist2d[i,j]\n",
    "        mySelectedLabel.value = 'Crime Number' + str(v)\n",
    "        ags = [ag_edges[j], ag_edges[j+1]]\n",
    "        dists = [dist_edges[i], dist_edges[i+1]]\n",
    "        region_mask = ( (cn['day'] >= ags[0]) & (cn['day'] <= ags[1]) &\\\n",
    "                       (cn['dis'] >= dists[0]) & (cn['dis']<= dists[1]) )\n",
    "        bar.x = cn['OFFENSE_CODE_GROUP'][region_mask]\n",
    "        bar.y = cn['inci'][region_mask]\n",
    "          \n",
    "heat_map.observe(get_data_value, 'selected')"
   ]
  },
  {
   "cell_type": "code",
   "execution_count": 62,
   "metadata": {},
   "outputs": [
    {
     "data": {
      "application/vnd.jupyter.widget-view+json": {
       "model_id": "81aa5e6a589f49d2a3469e4cc6ecdeda",
       "version_major": 2,
       "version_minor": 0
      },
      "text/plain": [
       "VBox(children=(Label(value=''), HBox(children=(Figure(axes=[ColorAxis(orientation='vertical', scale=ColorScale…"
      ]
     },
     "metadata": {},
     "output_type": "display_data"
    }
   ],
   "source": [
    "fig_heatmap = bqplot.Figure(marks=[heat_map], axes=[c_ax, y_ax, x_ax], title = 'Number of Crimse in Each District vs Day')\n",
    "fig_num = bqplot.Figure(marks=[bar], axes=[ax_x, ax_y], title = 'Number of Crimes in Categories')\n",
    "\n",
    "fig_heatmap.layout.min_width='400px'\n",
    "fig_num.layout.min_width = '400px'\n",
    "\n",
    "plots = ipywidgets.HBox([fig_heatmap, fig_num])\n",
    "myDashboard = ipywidgets.VBox([mySelectedLabel, plots])\n",
    "myDashboard"
   ]
  },
  {
   "cell_type": "markdown",
   "metadata": {},
   "source": [
    "This interactive data visualization above shows that the number of crimes is related to the day in a month. As the darkness of the color varies hugely among the pieces. It is obvious that in district 9 there are few crimes in the first half month, the number increased on the 18th of the month.This is somehow very interesting. Moreover, from the left part we can see that district 3, 4 and 5 are the most dangerous places which people should avoid. By selecting any tiny squares on the left side, a bar plot will show on the right side that illustrates how many crimes and which kind of crimes they are. This helps people discover the ratios that consist of the crime number. It will be clear to see which kinds of crimes are significantly more than others. Finally, it may be benefit for the police to manage the departments. For example, the department that is in charge of the the crime category that has the most number should be assigned with more people, and vise versa."
   ]
  },
  {
   "cell_type": "code",
   "execution_count": 70,
   "metadata": {},
   "outputs": [
    {
     "data": {
      "image/png": "[encoded data removed]",
      "text/plain": [
       "<Figure size 864x432 with 1 Axes>"
      ]
     },
     "metadata": {
      "needs_background": "light"
     },
     "output_type": "display_data"
    }
   ],
   "source": [
    "train = pd.read_csv('train.csv')\n",
    "train['date'] = pd.to_datetime(train['Dates'])\n",
    "train['hour'] = train.date.dt.hour\n",
    "cate_group = train.groupby(by='Category').size()\n",
    "\n",
    "cate_group.index = cate_group.index.map(string.capwords)\n",
    "cate_group.sort_values(ascending=False,inplace=True)\n",
    "most = list(cate_group.index[:5])\n",
    "tmp = train[train['Category'].map(string.capwords).isin(most)]\n",
    "tmp_group = tmp.groupby(['Category','hour']).size()\n",
    "tmp_group = tmp_group.unstack()\n",
    "tmp_group.T.plot(figsize=(12,6),style='o-')\n",
    "plt.show()"
   ]
  },
  {
   "cell_type": "markdown",
   "metadata": {},
   "source": [
    "This dataset is the San Francisco crime data. It shows the different kinds of crimes numbers in every hour. It helps to compare with Boston crime data. It reveals similarity and differences betweens the two cities. "
   ]
  },
  {
   "cell_type": "code",
   "execution_count": 76,
   "metadata": {},
   "outputs": [
    {
     "name": "stdout",
     "output_type": "stream",
     "text": [
      "Collecting pyecharts\n",
      "\u001b[?25l  Downloading https://files.pythonhosted.org/packages/8b/87/d358d00c8e7837da835869afa34cf556dc743a20d92d67abe02529c7b1d8/pyecharts-1.7.1-py3-none-any.whl (128kB)\n",
      "\u001b[K     |████████████████████████████████| 133kB 2.6MB/s eta 0:00:01\n",
      "\u001b[?25hCollecting simplejson (from pyecharts)\n",
      "\u001b[?25l  Downloading https://files.pythonhosted.org/packages/9b/f9/34c419bd2e00071d8899b8580c0a91970271c11e0f4a4e8a628a2ddc58ea/simplejson-3.17.0-cp37-cp37m-macosx_10_14_x86_64.whl (73kB)\n",
      "\u001b[K     |████████████████████████████████| 81kB 15.4MB/s eta 0:00:01\n",
      "\u001b[?25hRequirement already satisfied: jinja2 in /anaconda3/lib/python3.7/site-packages (from pyecharts) (2.10)\n",
      "Collecting prettytable (from pyecharts)\n",
      "  Downloading https://files.pythonhosted.org/packages/ef/30/4b0746848746ed5941f052479e7c23d2b56d174b82f4fd34a25e389831f5/prettytable-0.7.2.tar.bz2\n",
      "Requirement already satisfied: MarkupSafe>=0.23 in /anaconda3/lib/python3.7/site-packages (from jinja2->pyecharts) (1.1.0)\n",
      "Building wheels for collected packages: prettytable\n",
      "  Building wheel for prettytable (setup.py) ... \u001b[?25ldone\n",
      "\u001b[?25h  Created wheel for prettytable: filename=prettytable-0.7.2-cp37-none-any.whl size=13700 sha256=9cd5c41810d55d361bec960b0ce469f3396a3751b833d59047b3acb61fa1f6b4\n",
      "  Stored in directory: /Users/zhengjunyi/Library/Caches/pip/wheels/80/34/1c/3967380d9676d162cb59513bd9dc862d0584e045a162095606\n",
      "Successfully built prettytable\n",
      "Installing collected packages: simplejson, prettytable, pyecharts\n",
      "Successfully installed prettytable-0.7.2 pyecharts-1.7.1 simplejson-3.17.0\n"
     ]
    }
   ],
   "source": [
    "#!pip install pyecharts"
   ]
  },
  {
   "cell_type": "code",
   "execution_count": 79,
   "metadata": {},
   "outputs": [
    {
     "data": {
      "text/html": [
       "\n",
       "<script>\n",
       "    require.config({\n",
       "        paths: {\n",
       "            'echarts':'https://assets.pyecharts.org/assets/echarts.min'\n",
       "        }\n",
       "    });\n",
       "</script>\n",
       "\n",
       "        <div id=\"f0822c7082b0474e9d14308d1aebb199\" style=\"width:900px; height:500px;\"></div>\n",
       "\n",
       "<script>\n",
       "        require(['echarts'], function(echarts) {\n",
       "                var chart_f0822c7082b0474e9d14308d1aebb199 = echarts.init(\n",
       "                    document.getElementById('f0822c7082b0474e9d14308d1aebb199'), 'white', {renderer: 'canvas'});\n",
       "                var option_f0822c7082b0474e9d14308d1aebb199 = {\n",
       "    \"animation\": true,\n",
       "    \"animationThreshold\": 2000,\n",
       "    \"animationDuration\": 1000,\n",
       "    \"animationEasing\": \"cubicOut\",\n",
       "    \"animationDelay\": 0,\n",
       "    \"animationDurationUpdate\": 300,\n",
       "    \"animationEasingUpdate\": \"cubicOut\",\n",
       "    \"animationDelayUpdate\": 0,\n",
       "    \"color\": [\n",
       "        \"#c23531\",\n",
       "        \"#2f4554\",\n",
       "        \"#61a0a8\",\n",
       "        \"#d48265\",\n",
       "        \"#749f83\",\n",
       "        \"#ca8622\",\n",
       "        \"#bda29a\",\n",
       "        \"#6e7074\",\n",
       "        \"#546570\",\n",
       "        \"#c4ccd3\",\n",
       "        \"#f05b72\",\n",
       "        \"#ef5b9c\",\n",
       "        \"#f47920\",\n",
       "        \"#905a3d\",\n",
       "        \"#fab27b\",\n",
       "        \"#2a5caa\",\n",
       "        \"#444693\",\n",
       "        \"#726930\",\n",
       "        \"#b2d235\",\n",
       "        \"#6d8346\",\n",
       "        \"#ac6767\",\n",
       "        \"#1d953f\",\n",
       "        \"#6950a1\",\n",
       "        \"#918597\"\n",
       "    ],\n",
       "    \"series\": [\n",
       "        {\n",
       "            \"type\": \"pie\",\n",
       "            \"clockwise\": true,\n",
       "            \"data\": [\n",
       "                {\n",
       "                    \"name\": \"SOUTHERN\",\n",
       "                    \"value\": 157182\n",
       "                },\n",
       "                {\n",
       "                    \"name\": \"MISSION\",\n",
       "                    \"value\": 119908\n",
       "                },\n",
       "                {\n",
       "                    \"name\": \"NORTHERN\",\n",
       "                    \"value\": 105296\n",
       "                },\n",
       "                {\n",
       "                    \"name\": \"BAYVIEW\",\n",
       "                    \"value\": 89431\n",
       "                },\n",
       "                {\n",
       "                    \"name\": \"CENTRAL\",\n",
       "                    \"value\": 85460\n",
       "                },\n",
       "                {\n",
       "                    \"name\": \"TENDERLOIN\",\n",
       "                    \"value\": 81809\n",
       "                },\n",
       "                {\n",
       "                    \"name\": \"INGLESIDE\",\n",
       "                    \"value\": 78845\n",
       "                },\n",
       "                {\n",
       "                    \"name\": \"TARAVAL\",\n",
       "                    \"value\": 65596\n",
       "                },\n",
       "                {\n",
       "                    \"name\": \"PARK\",\n",
       "                    \"value\": 49313\n",
       "                },\n",
       "                {\n",
       "                    \"name\": \"RICHMOND\",\n",
       "                    \"value\": 45209\n",
       "                }\n",
       "            ],\n",
       "            \"radius\": [\n",
       "                \"30%\",\n",
       "                \"75%\"\n",
       "            ],\n",
       "            \"center\": [\n",
       "                \"50%\",\n",
       "                \"50%\"\n",
       "            ],\n",
       "            \"roseType\": \"radius\",\n",
       "            \"label\": {\n",
       "                \"show\": true,\n",
       "                \"position\": \"top\",\n",
       "                \"margin\": 8,\n",
       "                \"formatter\": \"{b}: {c}\"\n",
       "            },\n",
       "            \"rippleEffect\": {\n",
       "                \"show\": true,\n",
       "                \"brushType\": \"stroke\",\n",
       "                \"scale\": 2.5,\n",
       "                \"period\": 4\n",
       "            }\n",
       "        }\n",
       "    ],\n",
       "    \"legend\": [\n",
       "        {\n",
       "            \"data\": [\n",
       "                \"SOUTHERN\",\n",
       "                \"MISSION\",\n",
       "                \"NORTHERN\",\n",
       "                \"BAYVIEW\",\n",
       "                \"CENTRAL\",\n",
       "                \"TENDERLOIN\",\n",
       "                \"INGLESIDE\",\n",
       "                \"TARAVAL\",\n",
       "                \"PARK\",\n",
       "                \"RICHMOND\"\n",
       "            ],\n",
       "            \"selected\": {},\n",
       "            \"show\": true,\n",
       "            \"left\": \"0.5%\",\n",
       "            \"top\": \"20%\",\n",
       "            \"orient\": \"vertical\",\n",
       "            \"padding\": 5,\n",
       "            \"itemGap\": 10,\n",
       "            \"itemWidth\": 25,\n",
       "            \"itemHeight\": 14\n",
       "        }\n",
       "    ],\n",
       "    \"tooltip\": {\n",
       "        \"show\": true,\n",
       "        \"trigger\": \"item\",\n",
       "        \"triggerOn\": \"mousemove|click\",\n",
       "        \"axisPointer\": {\n",
       "            \"type\": \"line\"\n",
       "        },\n",
       "        \"textStyle\": {\n",
       "            \"fontSize\": 14\n",
       "        },\n",
       "        \"borderWidth\": 0\n",
       "    },\n",
       "    \"title\": [\n",
       "        {\n",
       "            \"text\": \"Districts Ratio\",\n",
       "            \"padding\": 5,\n",
       "            \"itemGap\": 10\n",
       "        }\n",
       "    ]\n",
       "};\n",
       "                chart_f0822c7082b0474e9d14308d1aebb199.setOption(option_f0822c7082b0474e9d14308d1aebb199);\n",
       "        });\n",
       "    </script>\n"
      ],
      "text/plain": [
       "<pyecharts.render.display.HTML at 0x1a1c6f8ef0>"
      ]
     },
     "execution_count": 79,
     "metadata": {},
     "output_type": "execute_result"
    }
   ],
   "source": [
    "from pyecharts.charts import Pie, Bar, Map, WordCloud,Line,Grid,Scatter,Radar,Page\n",
    "from pyecharts import options as opts\n",
    "district = train['PdDistrict'].value_counts()\n",
    "def pie_rosetype(col) -> Pie:\n",
    "#     v = Faker.choose()\n",
    "    c = (\n",
    "        Pie()\n",
    "        .add(\n",
    "            \"\",\n",
    "            [list(z) for z in zip(district.index.tolist(), \n",
    "                                  district.values.tolist())],\n",
    "            radius=[\"30%\", \"75%\"],\n",
    "            center=[\"50%\", \"50%\"],\n",
    "            rosetype=\"radius\",\n",
    "            label_opts=opts.LabelOpts(is_show=False),\n",
    "        )\n",
    "        .set_global_opts(title_opts=opts.TitleOpts(title=\"Districts Ratio\"),\n",
    "                        legend_opts=opts.LegendOpts(\n",
    "            orient=\"vertical\", pos_top=\"20%\", pos_left=\"0.5%\"\n",
    "        ))\n",
    "        .set_series_opts(label_opts=opts.LabelOpts(formatter=\"{b}: {c}\"))\n",
    "    )\n",
    "    return c\n",
    "pie_rosetype(district).render_notebook()"
   ]
  },
  {
   "cell_type": "markdown",
   "metadata": {},
   "source": [
    "The above visulization shows the ratio of number of crimes in different districts in San Francisco."
   ]
  },
  {
   "cell_type": "markdown",
   "metadata": {},
   "source": [
    "### 5. citation\n",
    "\n",
    "https://data.boston.gov/dataset/crime-incident-reports-august-2015-to-date-source-new-system\n",
    "\n",
    "https://www.kaggle.com/roshansharma/sanfrancisco-crime-analysis"
   ]
  },
  {
   "cell_type": "code",
   "execution_count": null,
   "metadata": {},
   "outputs": [],
   "source": []
  }
 ],
 "metadata": {
  "kernelspec": {
   "display_name": "Python 3",
   "language": "python",
   "name": "python3"
  },
  "language_info": {
   "codemirror_mode": {
    "name": "ipython",
    "version": 3
   },
   "file_extension": ".py",
   "mimetype": "text/x-python",
   "name": "python",
   "nbconvert_exporter": "python",
   "pygments_lexer": "ipython3",
   "version": "3.7.1"
  }
 },
 "nbformat": 4,
 "nbformat_minor": 4
}
